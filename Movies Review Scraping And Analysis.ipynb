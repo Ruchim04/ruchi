{
 "cells": [
  {
   "cell_type": "code",
   "execution_count": 3,
   "id": "540dc751-c1cc-4ef3-ad2a-3840a7faca1a",
   "metadata": {},
   "outputs": [
    {
     "name": "stdout",
     "output_type": "stream",
     "text": [
      "Defaulting to user installation because normal site-packages is not writeable\n",
      "Requirement already satisfied: pandas in c:\\programdata\\anaconda3\\lib\\site-packages (2.2.2)\n",
      "Requirement already satisfied: numpy>=1.26.0 in c:\\programdata\\anaconda3\\lib\\site-packages (from pandas) (1.26.4)\n",
      "Requirement already satisfied: python-dateutil>=2.8.2 in c:\\users\\welcome\\appdata\\roaming\\python\\python312\\site-packages (from pandas) (2.9.0.post0)\n",
      "Requirement already satisfied: pytz>=2020.1 in c:\\programdata\\anaconda3\\lib\\site-packages (from pandas) (2024.1)\n",
      "Requirement already satisfied: tzdata>=2022.7 in c:\\programdata\\anaconda3\\lib\\site-packages (from pandas) (2023.3)\n",
      "Requirement already satisfied: six>=1.5 in c:\\users\\welcome\\appdata\\roaming\\python\\python312\\site-packages (from python-dateutil>=2.8.2->pandas) (1.17.0)\n",
      "Defaulting to user installation because normal site-packages is not writeable\n",
      "Requirement already satisfied: beautifulSoup4 in c:\\users\\welcome\\appdata\\roaming\\python\\python312\\site-packages (4.12.3)\n",
      "Requirement already satisfied: soupsieve>1.2 in c:\\users\\welcome\\appdata\\roaming\\python\\python312\\site-packages (from beautifulSoup4) (2.6)\n",
      "Defaulting to user installation because normal site-packages is not writeable\n",
      "Requirement already satisfied: requests in c:\\users\\welcome\\appdata\\roaming\\python\\python312\\site-packages (2.32.3)\n",
      "Requirement already satisfied: charset-normalizer<4,>=2 in c:\\users\\welcome\\appdata\\roaming\\python\\python312\\site-packages (from requests) (3.4.1)\n",
      "Requirement already satisfied: idna<4,>=2.5 in c:\\users\\welcome\\appdata\\roaming\\python\\python312\\site-packages (from requests) (3.10)\n",
      "Requirement already satisfied: urllib3<3,>=1.21.1 in c:\\users\\welcome\\appdata\\roaming\\python\\python312\\site-packages (from requests) (2.3.0)\n",
      "Requirement already satisfied: certifi>=2017.4.17 in c:\\users\\welcome\\appdata\\roaming\\python\\python312\\site-packages (from requests) (2024.12.14)\n"
     ]
    }
   ],
   "source": [
    "!pip install pandas\n",
    "!pip install beautifulSoup4\n",
    "!pip install requests"
   ]
  },
  {
   "cell_type": "code",
   "execution_count": 4,
   "id": "28604ba3-dd7c-44f2-b67b-06e1edb8b436",
   "metadata": {},
   "outputs": [
    {
     "name": "stdout",
     "output_type": "stream",
     "text": [
      "CSV file 'imdb_top_250_movies.csv' has been created successfully.\n"
     ]
    }
   ],
   "source": [
    "from bs4 import BeautifulSoup\n",
    "import requests\n",
    "import re\n",
    "import pandas as pd\n",
    "\n",
    "# Downloading IMDb top 250 movie's data\n",
    "url = 'http://www.imdb.com/chart/top'\n",
    "response = requests.get(url)\n",
    "soup = BeautifulSoup(response.text, \"html.parser\")\n",
    "movies = soup.select('td.titleColumn')\n",
    "crew = [a.attrs.get('title') for a in soup.select('td.titleColumn a')]\n",
    "ratings = [b.attrs.get('data-value') for b in soup.select('td.posterColumn span[name=ir]')]\n",
    "\n",
    "# Create an empty list for storing movie information\n",
    "movie_list = []\n",
    "\n",
    "# Iterating over movies to extract each movie's details\n",
    "for index in range(len(movies)):\n",
    "    # Separating movie into: 'place', 'title', 'year'\n",
    "    movie_string = movies[index].get_text()\n",
    "    movie = (' '.join(movie_string.split()).replace('.', ''))\n",
    "    movie_title = movie[len(str(index)) + 1:-7]\n",
    "    year = re.search(r'\\((.*?)\\)', movie_string).group(1)  # Use raw string\n",
    "    place = movie[:len(str(index)) - (len(movie))]\n",
    "    data = {\n",
    "        \"place\": place.strip(),\n",
    "        \"movie_title\": movie_title.strip(),\n",
    "        \"rating\": ratings[index],\n",
    "        \"year\": year,\n",
    "        \"star_cast\": crew[index],\n",
    "    }\n",
    "    movie_list.append(data)\n",
    "\n",
    "# Printing movie details with its rating\n",
    "for movie in movie_list:\n",
    "    print(\n",
    "        movie['place'], '-', movie['movie_title'], '(' + movie['year'] + ') -',\n",
    "        'Starring:', movie['star_cast'], 'Rating:', movie['rating']\n",
    "    )\n",
    "\n",
    "# Saving the data to a CSV file\n",
    "df = pd.DataFrame(movie_list)\n",
    "df.to_csv('imdb_top_250_movies.csv', index=False)\n",
    "print(\"CSV file 'imdb_top_250_movies.csv' has been created successfully.\")"
   ]
  },
  {
   "cell_type": "code",
   "execution_count": null,
   "id": "70fa4e20-8846-4241-83e7-1dfc2b0dde11",
   "metadata": {},
   "outputs": [],
   "source": []
  }
 ],
 "metadata": {
  "kernelspec": {
   "display_name": "Python 3 (ipykernel)",
   "language": "python",
   "name": "python3"
  },
  "language_info": {
   "codemirror_mode": {
    "name": "ipython",
    "version": 3
   },
   "file_extension": ".py",
   "mimetype": "text/x-python",
   "name": "python",
   "nbconvert_exporter": "python",
   "pygments_lexer": "ipython3",
   "version": "3.12.4"
  }
 },
 "nbformat": 4,
 "nbformat_minor": 5
}
