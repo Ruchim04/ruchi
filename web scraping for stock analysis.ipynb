{
 "cells": [
  {
   "cell_type": "code",
   "execution_count": null,
   "id": "70fa4e20-8846-4241-83e7-1dfc2b0dde11",
   "metadata": {},
   "outputs": [
    {
     "name": "stdout",
     "output_type": "stream",
     "text": [
      "Change the Element id\n",
      "Change the Element id\n",
      "Change the Element id\n",
      "Change the Element id\n",
      "Change the Element id\n",
      "Change the Element id\n",
      "Change the Element id\n",
      "Change the Element id\n",
      "Change the Element id\n",
      "Change the Element id\n",
      "Change the Element id\n",
      "Change the Element id\n",
      "Change the Element id\n",
      "Change the Element id\n",
      "Change the Element id\n",
      "Change the Element id\n"
     ]
    }
   ],
   "source": [
    "import requests\n",
    "from bs4 import BeautifulSoup\n",
    "import pandas as pd\n",
    "import time\n",
    "\n",
    "headers = {'user-agent':'Mozilla/5.0 \\\n",
    "            (Windows NT 10.0; Win64; x64) \\\n",
    "            AppleWebKit/537.36 (KHTML, like Gecko) \\\n",
    "            Chrome/84.0.4147.105 Safari/537.36'}\n",
    "\n",
    "urls = [\n",
    "    'https://groww.in/us-stocks/nke',\n",
    "    'https://groww.in/us-stocks/ko', \n",
    "    'https://groww.in/us-stocks/msft', \n",
    "    'https://groww.in/stocks/m-india-ltd', \n",
    "    'https://groww.in/us-stocks/axp', \n",
    "    'https://groww.in/us-stocks/amgn', \n",
    "    'https://groww.in/us-stocks/aapl', \n",
    "    'https://groww.in/us-stocks/ba', \n",
    "    'https://groww.in/us-stocks/csco', \n",
    "    'https://groww.in/us-stocks/gs', \n",
    "    'https://groww.in/us-stocks/ibm', \n",
    "    'https://groww.in/us-stocks/intc', \n",
    "    'https://groww.in/us-stocks/jpm', \n",
    "    'https://groww.in/us-stocks/mcd',\n",
    "    'https://groww.in/us-stocks/crm', \n",
    "    'https://groww.in/us-stocks/vz', \n",
    "    'https://groww.in/us-stocks/v', \n",
    "    'https://groww.in/us-stocks/wmt',  \n",
    "    'https://groww.in/us-stocks/dis'\n",
    "    ]\n",
    "\n",
    "all=[]\n",
    "for url in urls:\n",
    "    page = requests.get(url,headers=headers)\n",
    "    try:\n",
    "        soup = BeautifulSoup(page.text, 'html.parser')\n",
    "        company = soup.find('h1', {'class': 'usph14Head displaySmall'}).text\n",
    "        price = soup.find('span', {'class': 'uht141Pri contentPrimary displayBase'}).text\n",
    "        change = soup.find('div', {'class': 'uht141Day bodyBaseHeavy contentNegative'}).text\n",
    "        volume=soup.find('table', {'class': 'tb10Table col l5'}).find_all('td')[1].text\n",
    "        x=[company,price,change,volume]\n",
    "        all.append(x)\n",
    "        \n",
    "    except AttributeError:\n",
    "      print(\"Change the Element id\")\n",
    "    # Wait for a short time to avoid rate limiting\n",
    "    time.sleep(10)\n",
    "\n",
    "column_names = [\"Company\", \"Price\", \"Change\",\"Volume\"]\n",
    "df = pd.DataFrame(columns = column_names)\n",
    "for i in all:\n",
    "  index=0\n",
    "  df.loc[index] = i\n",
    "  df.index = df.index + 1\n",
    "df=df.reset_index(drop=True)\n",
    "df.to_excel('stocks.xlsx')\n",
    "\n",
    "# This code is modified by Susobhan Akhuli\n"
   ]
  },
  {
   "cell_type": "code",
   "execution_count": null,
   "id": "eb0b7ac6-843d-4e46-82f7-0f847902809c",
   "metadata": {},
   "outputs": [],
   "source": []
  }
 ],
 "metadata": {
  "kernelspec": {
   "display_name": "Python 3 (ipykernel)",
   "language": "python",
   "name": "python3"
  },
  "language_info": {
   "codemirror_mode": {
    "name": "ipython",
    "version": 3
   },
   "file_extension": ".py",
   "mimetype": "text/x-python",
   "name": "python",
   "nbconvert_exporter": "python",
   "pygments_lexer": "ipython3",
   "version": "3.12.4"
  }
 },
 "nbformat": 4,
 "nbformat_minor": 5
}
